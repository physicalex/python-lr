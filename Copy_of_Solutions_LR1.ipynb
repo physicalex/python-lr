{
  "nbformat": 4,
  "nbformat_minor": 0,
  "metadata": {
    "colab": {
      "name": "Copy of Solutions_LR1.ipynb",
      "provenance": [],
      "collapsed_sections": [],
      "authorship_tag": "ABX9TyOG3v8JAwLoBnhkQQvXf9MN",
      "include_colab_link": true
    },
    "kernelspec": {
      "name": "python3",
      "display_name": "Python 3"
    }
  },
  "cells": [
    {
      "cell_type": "markdown",
      "metadata": {
        "id": "view-in-github",
        "colab_type": "text"
      },
      "source": [
        "<a href=\"https://colab.research.google.com/github/physicalex/python-lr/blob/master/Copy_of_Solutions_LR1.ipynb\" target=\"_parent\"><img src=\"https://colab.research.google.com/assets/colab-badge.svg\" alt=\"Open In Colab\"/></a>"
      ]
    },
    {
      "cell_type": "markdown",
      "metadata": {
        "id": "imfWXHNXAQym",
        "colab_type": "text"
      },
      "source": [
        "# Lineare Regression I"
      ]
    },
    {
      "cell_type": "markdown",
      "metadata": {
        "id": "907szpcPASbu",
        "colab_type": "text"
      },
      "source": [
        "# Aufgabe 1: Einführendes Beispiel"
      ]
    },
    {
      "cell_type": "code",
      "metadata": {
        "id": "XYfVFiFjxljg",
        "colab_type": "code",
        "colab": {}
      },
      "source": [
        "import numpy as np\n",
        "import matplotlib.pyplot as plt\n"
      ],
      "execution_count": null,
      "outputs": []
    },
    {
      "cell_type": "code",
      "metadata": {
        "id": "lR4fEu6uxtJf",
        "colab_type": "code",
        "colab": {}
      },
      "source": [
        "xDaten =np.array([2, 3, 4, 6, 7]) \n",
        "yDaten = np.array([4.1, 4.3, 4.2, 4.7, 4.9])"
      ],
      "execution_count": null,
      "outputs": []
    },
    {
      "cell_type": "code",
      "metadata": {
        "id": "FOA_79nDzM9r",
        "colab_type": "code",
        "colab": {
          "base_uri": "https://localhost:8080/",
          "height": 265
        },
        "outputId": "b7d7862f-bd42-4896-b5c7-d5001584439b"
      },
      "source": [
        "plt.plot(xDaten, yDaten,'bo')\n",
        "plt.show()"
      ],
      "execution_count": null,
      "outputs": [
        {
          "output_type": "display_data",
          "data": {
            "image/png": "[encoded data removed]",
            "text/plain": [
              "<Figure size 432x288 with 1 Axes>"
            ]
          },
          "metadata": {
            "tags": [],
            "needs_background": "light"
          }
        }
      ]
    },
    {
      "cell_type": "code",
      "metadata": {
        "id": "1t0GZ_X3zd0r",
        "colab_type": "code",
        "colab": {}
      },
      "source": [
        "arrx_transpose = xDaten.transpose()\n",
        "arry_transpose = yDaten.transpose()"
      ],
      "execution_count": null,
      "outputs": []
    },
    {
      "cell_type": "code",
      "metadata": {
        "id": "tB0XkTs_0PZc",
        "colab_type": "code",
        "colab": {
          "base_uri": "https://localhost:8080/",
          "height": 265
        },
        "outputId": "f0afc567-1c4a-4ff4-b276-0f5b7f1b853d"
      },
      "source": [
        "plt.plot(arrx_transpose, arry_transpose,'bo')\n",
        "plt.show()"
      ],
      "execution_count": null,
      "outputs": [
        {
          "output_type": "display_data",
          "data": {
            "image/png": "[encoded data removed]",
            "text/plain": [
              "<Figure size 432x288 with 1 Axes>"
            ]
          },
          "metadata": {
            "tags": [],
            "needs_background": "light"
          }
        }
      ]
    },
    {
      "cell_type": "code",
      "metadata": {
        "id": "_x5Ddwf71GJJ",
        "colab_type": "code",
        "colab": {}
      },
      "source": [
        "xMittel=np.mean(xDaten)"
      ],
      "execution_count": null,
      "outputs": []
    },
    {
      "cell_type": "code",
      "metadata": {
        "id": "zEK_-hAn1VJg",
        "colab_type": "code",
        "colab": {
          "base_uri": "https://localhost:8080/",
          "height": 34
        },
        "outputId": "f8c3a574-07f7-421a-8b65-85e168653a89"
      },
      "source": [
        "xMittel"
      ],
      "execution_count": null,
      "outputs": [
        {
          "output_type": "execute_result",
          "data": {
            "text/plain": [
              "4.4"
            ]
          },
          "metadata": {
            "tags": []
          },
          "execution_count": 63
        }
      ]
    },
    {
      "cell_type": "code",
      "metadata": {
        "id": "u1FUJmt81Z9d",
        "colab_type": "code",
        "colab": {}
      },
      "source": [
        "yMittel=np.mean(yDaten)"
      ],
      "execution_count": null,
      "outputs": []
    },
    {
      "cell_type": "code",
      "metadata": {
        "id": "gTYbdQJ_1z1x",
        "colab_type": "code",
        "colab": {
          "base_uri": "https://localhost:8080/",
          "height": 34
        },
        "outputId": "ce1b75e1-5a24-4edd-f4e1-af0b64e2fd41"
      },
      "source": [
        "yMittel"
      ],
      "execution_count": null,
      "outputs": [
        {
          "output_type": "execute_result",
          "data": {
            "text/plain": [
              "4.4399999999999995"
            ]
          },
          "metadata": {
            "tags": []
          },
          "execution_count": 65
        }
      ]
    },
    {
      "cell_type": "code",
      "metadata": {
        "id": "OYdIbI8W12CM",
        "colab_type": "code",
        "colab": {}
      },
      "source": [
        "xAbweichung=xDaten-xMittel"
      ],
      "execution_count": null,
      "outputs": []
    },
    {
      "cell_type": "code",
      "metadata": {
        "id": "tskLqXpV2MGI",
        "colab_type": "code",
        "colab": {}
      },
      "source": [
        "Sxx=np.sum(xAbweichung**2)"
      ],
      "execution_count": null,
      "outputs": []
    },
    {
      "cell_type": "code",
      "metadata": {
        "id": "1UBI-Rvq3J7G",
        "colab_type": "code",
        "colab": {}
      },
      "source": [
        "yAbweichung = yDaten - yMittel"
      ],
      "execution_count": null,
      "outputs": []
    },
    {
      "cell_type": "code",
      "metadata": {
        "id": "6O5vkKrQ3bp-",
        "colab_type": "code",
        "colab": {}
      },
      "source": [
        "Sxy = np.sum(xAbweichung*yAbweichung)"
      ],
      "execution_count": null,
      "outputs": []
    },
    {
      "cell_type": "code",
      "metadata": {
        "id": "ptkptFDe3jx9",
        "colab_type": "code",
        "colab": {}
      },
      "source": [
        "b=Sxy/Sxx"
      ],
      "execution_count": null,
      "outputs": []
    },
    {
      "cell_type": "code",
      "metadata": {
        "id": "gWgMzJ8o3k8V",
        "colab_type": "code",
        "colab": {}
      },
      "source": [
        "a = yMittel - b*xMittel"
      ],
      "execution_count": null,
      "outputs": []
    },
    {
      "cell_type": "code",
      "metadata": {
        "id": "hb6z4Ddg3qRu",
        "colab_type": "code",
        "colab": {
          "base_uri": "https://localhost:8080/",
          "height": 265
        },
        "outputId": "0c7d3077-8d8b-467c-aa63-95c258e05e28"
      },
      "source": [
        "def f(t):\n",
        "    return a+b*t\n",
        "\n",
        "t1 = np.arange(0.0, 7.0, 0.1)\n",
        "\n",
        "plt.plot(arrx_transpose, arry_transpose,'bo',t1,f(t1), 'k')\n",
        "plt.show()"
      ],
      "execution_count": null,
      "outputs": [
        {
          "output_type": "display_data",
          "data": {
            "image/png": "[encoded data removed]",
            "text/plain": [
              "<Figure size 432x288 with 1 Axes>"
            ]
          },
          "metadata": {
            "tags": [],
            "needs_background": "light"
          }
        }
      ]
    }
  ]
}